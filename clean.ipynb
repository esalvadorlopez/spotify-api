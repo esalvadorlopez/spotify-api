{
 "cells": [
  {
   "cell_type": "code",
   "execution_count": null,
   "metadata": {},
   "outputs": [],
   "source": [
    "import pandas as pd\n",
    "import json\n",
    "import ast\n",
    "from pandas.io import gbq\n",
    "import os"
   ]
  },
  {
   "cell_type": "code",
   "execution_count": null,
   "metadata": {},
   "outputs": [],
   "source": [
    "files = os.listdir('./data')"
   ]
  },
  {
   "cell_type": "code",
   "execution_count": null,
   "metadata": {},
   "outputs": [],
   "source": [
    "text = []\n",
    "count = 0\n",
    "for i in files:\n",
    "    f = f'{count} = {i}/'\n",
    "    text.append(f)\n",
    "    count += 1\n",
    "text_str = ''.join(text).replace('/','\\n')"
   ]
  },
  {
   "cell_type": "code",
   "execution_count": 58,
   "metadata": {},
   "outputs": [],
   "source": [
    "df = pd.read_csv(f'./data/juan_gabriel.csv')"
   ]
  },
  {
   "cell_type": "code",
   "execution_count": null,
   "metadata": {},
   "outputs": [],
   "source": [
    "df.sample(20)"
   ]
  },
  {
   "cell_type": "code",
   "execution_count": null,
   "metadata": {},
   "outputs": [],
   "source": [
    "df['album'] = df['album'].apply(lambda x: ast.literal_eval(x))"
   ]
  },
  {
   "cell_type": "code",
   "execution_count": null,
   "metadata": {},
   "outputs": [],
   "source": [
    "def unnest_values(column):\n",
    "    n = 0\n",
    "    a_values = []  \n",
    "    for row in column:\n",
    "        new_value = {'key':n}\n",
    "        row.update(new_value)\n",
    "        a_values.append(row)\n",
    "        n += 1\n",
    "    nest_df = pd.DataFrame(a_values)\n",
    "    return nest_df\n",
    "\n",
    "df = df.merge(unnest_values(df['album']), on='key',how='left')\n",
    "df.columns = df.columns.str.replace(r'_x','_track')\n",
    "df.columns = df.columns.str.replace(r'_y','_album')"
   ]
  },
  {
   "cell_type": "code",
   "execution_count": null,
   "metadata": {},
   "outputs": [],
   "source": [
    "df['artists_track'] = df['artists_track'].apply(lambda x: ast.literal_eval(x))\n",
    "df['artists_track'] = df['artists_track'].apply(lambda x: x[0])"
   ]
  },
  {
   "cell_type": "code",
   "execution_count": null,
   "metadata": {},
   "outputs": [],
   "source": [
    "df.sample(5)"
   ]
  },
  {
   "cell_type": "code",
   "execution_count": null,
   "metadata": {},
   "outputs": [],
   "source": [
    "#df['images'] = df['images'].apply(lambda x: ast.literal_eval(x))\n",
    "df['images'] = df['images'].apply(lambda x: x[0])"
   ]
  },
  {
   "cell_type": "code",
   "execution_count": null,
   "metadata": {},
   "outputs": [],
   "source": [
    "df = df.merge(unnest_values(df['images']), on='key',how='left')\n",
    "df = df.merge(unnest_values(df['artists_track']), on='key',how='left')"
   ]
  },
  {
   "cell_type": "code",
   "execution_count": null,
   "metadata": {},
   "outputs": [],
   "source": [
    "df.columns"
   ]
  },
  {
   "cell_type": "code",
   "execution_count": null,
   "metadata": {},
   "outputs": [],
   "source": [
    "df"
   ]
  },
  {
   "cell_type": "code",
   "execution_count": null,
   "metadata": {},
   "outputs": [],
   "source": [
    "df.drop(['album','external_ids','artists_track','width','height','images','external_urls_track','external_urls_album','artists_album','external_ids','href_track','href_album','uri_album','key','type_album','type_track','type','uri'],axis=1,inplace=True)"
   ]
  },
  {
   "cell_type": "code",
   "execution_count": null,
   "metadata": {},
   "outputs": [],
   "source": [
    "df.rename(columns={'url': 'image_url'},inplace=True)"
   ]
  },
  {
   "cell_type": "code",
   "execution_count": null,
   "metadata": {},
   "outputs": [],
   "source": [
    "df"
   ]
  },
  {
   "cell_type": "code",
   "execution_count": null,
   "metadata": {},
   "outputs": [],
   "source": [
    "df.columns"
   ]
  },
  {
   "cell_type": "code",
   "execution_count": null,
   "metadata": {},
   "outputs": [],
   "source": [
    "df = df[[\n",
    "'artist',\n",
    "'id_track',\n",
    "'name_track',\n",
    "'name',\n",
    "'duration_ms',\n",
    "'explicit',\n",
    "'popularity',\n",
    "'preview_url',\n",
    "'id_album',\n",
    "'name_album',\n",
    "'release_date',\n",
    "'total_tracks',\n",
    "'album_type',\n",
    "'image_url'\n",
    "]]"
   ]
  },
  {
   "cell_type": "code",
   "execution_count": null,
   "metadata": {},
   "outputs": [],
   "source": [
    "df.rename(columns={'name':'author'})"
   ]
  },
  {
   "cell_type": "code",
   "execution_count": null,
   "metadata": {},
   "outputs": [],
   "source": [
    "df.sample(5)"
   ]
  },
  {
   "cell_type": "code",
   "execution_count": null,
   "metadata": {},
   "outputs": [],
   "source": [
    "df[['duration_ms','popularity','total_tracks']] = df[['duration_ms','popularity','total_tracks']].astype(int)"
   ]
  },
  {
   "cell_type": "code",
   "execution_count": null,
   "metadata": {},
   "outputs": [],
   "source": [
    "df['release_date'] = pd.to_datetime(df['release_date'])"
   ]
  },
  {
   "cell_type": "code",
   "execution_count": null,
   "metadata": {},
   "outputs": [],
   "source": [
    "df.to_gbq(destination_table='spotify.songs',\n",
    "project_id='general-project-352815',\n",
    "if_exists='append')"
   ]
  }
 ],
 "metadata": {
  "kernelspec": {
   "display_name": "Python 3.10.2 ('venv': venv)",
   "language": "python",
   "name": "python3"
  },
  "language_info": {
   "codemirror_mode": {
    "name": "ipython",
    "version": 3
   },
   "file_extension": ".py",
   "mimetype": "text/x-python",
   "name": "python",
   "nbconvert_exporter": "python",
   "pygments_lexer": "ipython3",
   "version": "3.10.2"
  },
  "orig_nbformat": 4,
  "vscode": {
   "interpreter": {
    "hash": "c0a9530fb3d784f82e8d4af8d0e5895cdc59eab6ebc20f3706e999f08a51260e"
   }
  }
 },
 "nbformat": 4,
 "nbformat_minor": 2
}
